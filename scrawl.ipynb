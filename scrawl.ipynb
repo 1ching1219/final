{
 "cells": [
  {
   "cell_type": "code",
   "execution_count": null,
   "metadata": {},
   "outputs": [],
   "source": [
    "from selenium import webdriver  #從library中引入webdriver\n",
    "from selenium.webdriver.common.by import By\n",
    "from selenium.webdriver import ActionChains\n",
    "from selenium.webdriver.common.keys import Keys\n",
    "from selenium.webdriver.support import expected_conditions as EC\n",
    "from selenium.webdriver.support.ui import WebDriverWait\n",
    "import time"
   ]
  },
  {
   "cell_type": "code",
   "execution_count": 63,
   "metadata": {},
   "outputs": [],
   "source": [
    "def scroll(website):\n",
    "    height = website.execute_script('return document.documentElement.scrollHeight')\n",
    "    i = 1\n",
    "    while True:\n",
    "        if (i == 1):\n",
    "            website.execute_script('window.scrollTo(0, document.documentElement.scrollHeight/6)')\n",
    "            time.sleep(1)\n",
    "        if(i == 2): \n",
    "            website.execute_script('window.scrollTo(0, document.documentElement.scrollHeight/3)')\n",
    "            time.sleep(1)\n",
    "        if(i == 3): \n",
    "            website.execute_script('window.scrollTo(0, document.documentElement.scrollHeight/2)')\n",
    "            time.sleep(1)\n",
    "\n",
    "        i+=1\n",
    "\n",
    "        newheight = website.execute_script('return document.documentElement.scrollHeight')\n",
    "        if i==4:\n",
    "            website.execute_script('window.scrollTo(0, document.documentElement.scrollHeight)/1.2')\n",
    "            break\n",
    "        height = newheight\n",
    "        \n",
    "    time.sleep(3)\n",
    "    brands_price=[]\n",
    "    products= website.find_elements(By.CSS_SELECTOR, 'div.KMyn8J')\n",
    "    for p in products:\n",
    "        brand = p.find_elements(By.CSS_SELECTOR, 'div.Cve6sh')\n",
    "        price = p.find_elements(By.CSS_SELECTOR, 'span.ZEgDH9')\n",
    "        brands_price.append([brand[0].text, price[0].text])\n",
    "\n",
    "    return brands_price"
   ]
  },
  {
   "cell_type": "code",
   "execution_count": 64,
   "metadata": {},
   "outputs": [],
   "source": [
    "\n",
    "def watson_search(keywords):\n",
    "    watsons = webdriver.Firefox(executable_path=r'C:\\Users\\user\\OneDrive\\桌面\\git\\final\\geckodriver.exe')\n",
    "    time.sleep(1)\n",
    "    watsons.get(\"https://shopee.tw/watsons_taiwan\")\n",
    "    # 定位搜尋框\n",
    "    time.sleep(1)\n",
    "    search_watsons = watsons.find_element(By.CSS_SELECTOR,\"input.shopee-searchbar-input__input\")\n",
    "\n",
    "    # 傳入字串\n",
    "    ActionChains(watsons).move_to_element(search_watsons).pause(1).double_click().pause(1)\\\n",
    "    .send_keys(keywords).send_keys(Keys.ENTER).send_keys(Keys.ENTER).perform()\n",
    "\n",
    "    #scroll\n",
    "    time.sleep(1)\n",
    "    watson_scrawl = scroll(watsons)\n",
    "    return watson_scrawl\n",
    "\n",
    "    "
   ]
  },
  {
   "cell_type": "code",
   "execution_count": 65,
   "metadata": {},
   "outputs": [],
   "source": [
    "def cosmed_search(keywords):\n",
    "    cosmed = webdriver.Firefox(executable_path=r'C:\\Users\\user\\OneDrive\\桌面\\git\\final\\geckodriver.exe')\n",
    "    time.sleep(1)\n",
    "    cosmed.get(\"https://shopee.tw/cosmed.tw\")\n",
    "\n",
    "    # 定位搜尋框\n",
    "    time.sleep(1)\n",
    "    search_cosmed = cosmed.find_element(By.CSS_SELECTOR,\"input.shopee-searchbar-input__input\")\n",
    "\n",
    "    # 傳入字串\n",
    "    ActionChains(cosmed).move_to_element(search_cosmed).pause(1).double_click().pause(1)\\\n",
    "    .send_keys(keywords).send_keys(Keys.ENTER).send_keys(Keys.ENTER).perform()\n",
    "\n",
    "    #scroll\n",
    "    time.sleep(1)\n",
    "    cosmed_scrawl = scroll(cosmed)\n",
    "    return cosmed_scrawl"
   ]
  },
  {
   "cell_type": "code",
   "execution_count": 66,
   "metadata": {},
   "outputs": [],
   "source": [
    "def poya_search(keywords):\n",
    "    poya = webdriver.Firefox(executable_path=r'C:\\Users\\user\\OneDrive\\桌面\\git\\final\\geckodriver.exe')\n",
    "    time.sleep(1)\n",
    "    poya.get(\"https://shopee.tw/poya888\")\n",
    "\n",
    "    # 定位搜尋框\n",
    "    time.sleep(1)\n",
    "    search_poya = poya.find_element(By.CSS_SELECTOR,\"input.shopee-searchbar-input__input\")\n",
    "\n",
    "    # 傳入字串\n",
    "    ActionChains(poya).move_to_element(search_poya).pause(1).double_click().pause(1)\\\n",
    "    .send_keys(keywords).send_keys(Keys.ENTER).send_keys(Keys.ENTER).perform()\n",
    "\n",
    "    #scroll\n",
    "    time.sleep(1)\n",
    "    poya_scrawl = scroll(poya)\n",
    "    return poya_scrawl"
   ]
  },
  {
   "cell_type": "code",
   "execution_count": 67,
   "metadata": {},
   "outputs": [
    {
     "name": "stderr",
     "output_type": "stream",
     "text": [
      "C:\\Users\\user\\AppData\\Local\\Temp\\ipykernel_6508\\1026734557.py:2: DeprecationWarning: executable_path has been deprecated, please pass in a Service object\n",
      "  watsons = webdriver.Firefox(executable_path=r'C:\\Users\\user\\OneDrive\\桌面\\git\\final\\geckodriver.exe')\n"
     ]
    },
    {
     "name": "stdout",
     "output_type": "stream",
     "text": [
      "13\n",
      "13\n",
      "13\n",
      "13\n",
      "299\n",
      "299\n",
      "87\n",
      "198\n",
      "141\n",
      "351\n",
      "96\n",
      "140\n",
      "193\n",
      "351\n",
      "13\n",
      "175\n",
      "175\n",
      "299\n",
      "141\n",
      "220\n",
      "299\n",
      "351\n",
      "175\n",
      "220\n",
      "220\n",
      "299\n",
      "175\n",
      "116\n",
      "175\n",
      "141\n",
      "229\n",
      "141\n",
      "175\n",
      "299\n",
      "34\n",
      "351\n",
      "299\n",
      "39\n",
      "299\n",
      "351\n",
      "299\n",
      "175\n",
      "299\n",
      "140\n",
      "43\n",
      "351\n",
      "299\n",
      "410\n",
      "517\n",
      "193\n"
     ]
    }
   ],
   "source": [
    "test = watson_search('面膜')"
   ]
  },
  {
   "cell_type": "code",
   "execution_count": 68,
   "metadata": {},
   "outputs": [
    {
     "data": {
      "text/plain": [
       "[['韓國isLeaf極緻水感保濕面膜22ml-玻尿酸', '13'],\n",
       " ['韓國isLeaf極緻水感保濕面膜22ml-膠原蛋白', '13'],\n",
       " ['韓國isLeaf極緻水感保濕面膜22ml-珍珠', '13'],\n",
       " ['韓國isLeaf極緻水感保濕面膜22ml-蘆薈', '13'],\n",
       " ['霓淨思印度積雪草注水修護面膜8入', '299'],\n",
       " ['霓淨思深海藍藻補水保濕面膜6片', '299'],\n",
       " ['霓淨思高效保濕零觸感面膜3片', '87'],\n",
       " ['NARUKO 茶樹神奇痘痘黑面膜8入', '198'],\n",
       " ['森田藥粧極奢華黃金特濃保濕面膜5入', '141'],\n",
       " ['肌研光透潤深層美白面膜 8片', '351'],\n",
       " ['NARUKO茶樹控油痘黑天王3+1面膜組茶樹*3入+紅薏仁*1入', '96'],\n",
       " ['Dr.Satin頂級魚子高效保濕面膜30ml-3片入', '140'],\n",
       " ['NARUKO紅薏仁健康雪白面膜10入', '193'],\n",
       " ['Labo Labo毛孔緊緻早晚安面膜32片【日本醫美第一品牌】', '351'],\n",
       " ['韓國isLeaf極緻水感保濕面膜22ml-蝸牛', '13'],\n",
       " ['我的心機 肌優安瓶賦活保濕面膜4入', '175'],\n",
       " ['我的心機‧濃潤玻尿酸保濕鎖水黑面膜8入', '175'],\n",
       " ['霓淨思N7跑趴超貼妝保濕面膜5片', '299'],\n",
       " ['森田藥粧縮時煥白透亮面膜4入', '141'],\n",
       " ['范倫鐵諾 玻尿酸深層保濕雙V拉提面膜10入', '220'],\n",
       " ['霓淨思杏仁酸淨膚亮白面膜6入', '299'],\n",
       " ['肌研光透潤瞬效補水面膜8片', '351'],\n",
       " ['我的心機．濃潤淨化調理毛孔細緻黑面膜8入', '175'],\n",
       " ['范倫鐵諾 深透白淡斑雙V拉提面膜 10入', '220'],\n",
       " ['范倫鐵諾 九胜月太美白雙拉提面膜 10入/盒', '220'],\n",
       " ['我的心機-淨化調理毛孔細緻面膜10入', '299'],\n",
       " ['我的心機‧濃潤七合一晶緻煥白黑面膜8入', '175'],\n",
       " ['TT波特嫚 蝸牛氣墊保濕面膜4入盒', '116'],\n",
       " ['我的心機‧濃潤蝸牛保水修護黑面膜8入', '175'],\n",
       " ['森田藥粧多重玻尿酸複合精華高保濕面膜4入', '141'],\n",
       " ['森田藥粧高純度玻尿酸保濕潤澤面膜8入', '229'],\n",
       " ['森田藥粧積雪草舒活面膜4入', '141'],\n",
       " ['我的心機 肌優安瓶活顏美白面膜4入', '175'],\n",
       " ['霓淨思N7近距離美肌調理面膜5片', '299'],\n",
       " ['天天美麗 角鯊烷速效面膜單片', '34'],\n",
       " ['肌研光透潤亮澤緊緻面膜 8片', '351'],\n",
       " ['霓淨思澳洲茶樹平衡淨化面膜8入', '299'],\n",
       " ['我的心機 深層清潔毛孔緊緻面膜1入', '39'],\n",
       " ['豐台灣蘆薈絲瓜沁潤蠶絲面膜5入', '299'],\n",
       " ['肌研光透潤極致水潤面膜 8片', '351'],\n",
       " ['豐台灣薏仁牛奶柔白蠶絲面膜5入', '299'],\n",
       " ['我的心機 超能安瓶極致水潤面膜4入', '175'],\n",
       " ['我的心機 玻尿酸鎖水保濕面膜10入', '299'],\n",
       " ['Dr.Satin 珍珠潤白活膚精華面膜30ml-3片入', '140'],\n",
       " ['肌研光透潤深層美白面膜 1片', '43'],\n",
       " ['洗顏專科完美保濕特潤面膜7片/盒', '351'],\n",
       " ['霓淨思N7前男友超後悔吸睛面膜5片', '299'],\n",
       " ['BCL Saborino早安面膜 32枚入', '410'],\n",
       " ['Dr.Satin 珍珠潤白活膚精華面膜30ml 3片入*4盒超值組', '517'],\n",
       " ['NARUKO森玫瑰水立方保濕面膜EX 10入', '193']]"
      ]
     },
     "execution_count": 68,
     "metadata": {},
     "output_type": "execute_result"
    }
   ],
   "source": [
    "test"
   ]
  },
  {
   "cell_type": "code",
   "execution_count": null,
   "metadata": {},
   "outputs": [],
   "source": []
  }
 ],
 "metadata": {
  "kernelspec": {
   "display_name": "Python 3.10.2 64-bit",
   "language": "python",
   "name": "python3"
  },
  "language_info": {
   "codemirror_mode": {
    "name": "ipython",
    "version": 3
   },
   "file_extension": ".py",
   "mimetype": "text/x-python",
   "name": "python",
   "nbconvert_exporter": "python",
   "pygments_lexer": "ipython3",
   "version": "3.10.2"
  },
  "orig_nbformat": 4,
  "vscode": {
   "interpreter": {
    "hash": "fb4569285eef3a3450cb62085a5b1e0da4bce0af555edc33dcf29baf3acc1368"
   }
  }
 },
 "nbformat": 4,
 "nbformat_minor": 2
}
