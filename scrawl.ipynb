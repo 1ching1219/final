{
 "cells": [
  {
   "cell_type": "code",
   "execution_count": 80,
   "metadata": {},
   "outputs": [],
   "source": [
    "from selenium import webdriver  #從library中引入webdriver\n",
    "from selenium.webdriver.common.by import By\n",
    "from selenium.webdriver import ActionChains\n",
    "from selenium.webdriver.common.keys import Keys\n",
    "from selenium.webdriver.support import expected_conditions as EC\n",
    "from selenium.webdriver.support.ui import WebDriverWait\n",
    "import time"
   ]
  },
  {
   "cell_type": "code",
   "execution_count": 81,
   "metadata": {},
   "outputs": [],
   "source": [
    "def scroll(website):\n",
    "    height = website.execute_script('return document.documentElement.scrollHeight')\n",
    "    i = 1\n",
    "    while True:\n",
    "        if (i == 1):\n",
    "            website.execute_script('window.scrollTo(0, document.documentElement.scrollHeight/6)')\n",
    "            time.sleep(1)\n",
    "        if(i == 2): \n",
    "            website.execute_script('window.scrollTo(0, document.documentElement.scrollHeight/3)')\n",
    "            time.sleep(1)\n",
    "        if(i == 3): \n",
    "            website.execute_script('window.scrollTo(0, document.documentElement.scrollHeight/2)')\n",
    "            time.sleep(1)\n",
    "\n",
    "        i+=1\n",
    "\n",
    "        newheight = website.execute_script('return document.documentElement.scrollHeight')\n",
    "        if i==4:\n",
    "            website.execute_script('window.scrollTo(0, document.documentElement.scrollHeight)/1.2')\n",
    "            break\n",
    "        height = newheight\n",
    "        \n",
    "    time.sleep(3)\n",
    "    brands_price=[]\n",
    "    products= website.find_elements(By.CSS_SELECTOR, 'div.KMyn8J')\n",
    "    for p in products:\n",
    "        brand = p.find_elements(By.CSS_SELECTOR, 'div.Cve6sh')\n",
    "        price = p.find_elements(By.CSS_SELECTOR, 'span.ZEgDH9')\n",
    "        brands_price.append([brand[0].text, price[0].text])\n",
    "\n",
    "    return brands_price"
   ]
  },
  {
   "cell_type": "code",
   "execution_count": 82,
   "metadata": {},
   "outputs": [],
   "source": [
    "\n",
    "def watson_search(keywords):\n",
    "    watsons = webdriver.Firefox(executable_path=r'C:\\Users\\user\\OneDrive\\桌面\\git\\final\\geckodriver.exe')\n",
    "    time.sleep(1)\n",
    "    watsons.get(\"https://shopee.tw/watsons_taiwan\")\n",
    "    # 定位搜尋框\n",
    "    time.sleep(1)\n",
    "    search_watsons = watsons.find_element(By.CSS_SELECTOR,\"input.shopee-searchbar-input__input\")\n",
    "\n",
    "    # 傳入字串\n",
    "    ActionChains(watsons).move_to_element(search_watsons).pause(1).double_click().pause(1)\\\n",
    "    .send_keys(keywords).send_keys(Keys.ENTER).send_keys(Keys.ENTER).perform()\n",
    "\n",
    "    #scroll\n",
    "    time.sleep(1)\n",
    "    watson_scrawl = scroll(watsons)\n",
    "    return watson_scrawl\n",
    "\n",
    "    "
   ]
  },
  {
   "cell_type": "code",
   "execution_count": 83,
   "metadata": {},
   "outputs": [],
   "source": [
    "def cosmed_search(keywords):\n",
    "    cosmed = webdriver.Firefox(executable_path=r'C:\\Users\\user\\OneDrive\\桌面\\git\\final\\geckodriver.exe')\n",
    "    time.sleep(1)\n",
    "    cosmed.get(\"https://shopee.tw/cosmed.tw\")\n",
    "\n",
    "    # 定位搜尋框\n",
    "    time.sleep(1)\n",
    "    search_cosmed = cosmed.find_element(By.CSS_SELECTOR,\"input.shopee-searchbar-input__input\")\n",
    "\n",
    "    # 傳入字串\n",
    "    ActionChains(cosmed).move_to_element(search_cosmed).pause(1).double_click().pause(1)\\\n",
    "    .send_keys(keywords).send_keys(Keys.ENTER).send_keys(Keys.ENTER).perform()\n",
    "\n",
    "    #scroll\n",
    "    time.sleep(1)\n",
    "    cosmed_scrawl = scroll(cosmed)\n",
    "    return cosmed_scrawl"
   ]
  },
  {
   "cell_type": "code",
   "execution_count": 84,
   "metadata": {},
   "outputs": [],
   "source": [
    "def poya_search(keywords):\n",
    "    poya = webdriver.Firefox(executable_path=r'C:\\Users\\user\\OneDrive\\桌面\\git\\final\\geckodriver.exe')\n",
    "    time.sleep(1)\n",
    "    poya.get(\"https://shopee.tw/poya888\")\n",
    "\n",
    "    # 定位搜尋框\n",
    "    time.sleep(1)\n",
    "    search_poya = poya.find_element(By.CSS_SELECTOR,\"input.shopee-searchbar-input__input\")\n",
    "\n",
    "    # 傳入字串\n",
    "    ActionChains(poya).move_to_element(search_poya).pause(1).double_click().pause(1)\\\n",
    "    .send_keys(keywords).send_keys(Keys.ENTER).send_keys(Keys.ENTER).perform()\n",
    "\n",
    "    #scroll\n",
    "    time.sleep(1)\n",
    "    poya_scrawl = scroll(poya)\n",
    "    return poya_scrawl"
   ]
  },
  {
   "cell_type": "code",
   "execution_count": 85,
   "metadata": {},
   "outputs": [
    {
     "name": "stderr",
     "output_type": "stream",
     "text": [
      "C:\\Users\\user\\AppData\\Local\\Temp\\ipykernel_6508\\1026734557.py:2: DeprecationWarning: executable_path has been deprecated, please pass in a Service object\n",
      "  watsons = webdriver.Firefox(executable_path=r'C:\\Users\\user\\OneDrive\\桌面\\git\\final\\geckodriver.exe')\n"
     ]
    }
   ],
   "source": [
    "test_wastons = watson_search('面膜')\n",
    "test_cosmed = cosmed_search('面膜')\n",
    "test_poya = poya_search('面膜')"
   ]
  },
  {
   "cell_type": "code",
   "execution_count": 86,
   "metadata": {},
   "outputs": [
    {
     "data": {
      "text/plain": [
       "[['韓國isLeaf極緻水感保濕面膜22ml-玻尿酸', '13'],\n",
       " ['韓國isLeaf極緻水感保濕面膜22ml-膠原蛋白', '13'],\n",
       " ['韓國isLeaf極緻水感保濕面膜22ml-珍珠', '13'],\n",
       " ['韓國isLeaf極緻水感保濕面膜22ml-蘆薈', '13'],\n",
       " ['霓淨思印度積雪草注水修護面膜8入', '299'],\n",
       " ['霓淨思深海藍藻補水保濕面膜6片', '299'],\n",
       " ['霓淨思高效保濕零觸感面膜3片', '87'],\n",
       " ['NARUKO 茶樹神奇痘痘黑面膜8入', '198'],\n",
       " ['森田藥粧極奢華黃金特濃保濕面膜5入', '141'],\n",
       " ['肌研光透潤深層美白面膜 8片', '351'],\n",
       " ['NARUKO茶樹控油痘黑天王3+1面膜組茶樹*3入+紅薏仁*1入', '96'],\n",
       " ['Dr.Satin頂級魚子高效保濕面膜30ml-3片入', '140'],\n",
       " ['NARUKO紅薏仁健康雪白面膜10入', '193'],\n",
       " ['Labo Labo毛孔緊緻早晚安面膜32片【日本醫美第一品牌】', '351'],\n",
       " ['韓國isLeaf極緻水感保濕面膜22ml-蝸牛', '13']]"
      ]
     },
     "execution_count": 86,
     "metadata": {},
     "output_type": "execute_result"
    }
   ],
   "source": [
    "test_wastons\n"
   ]
  },
  {
   "cell_type": "code",
   "execution_count": 87,
   "metadata": {},
   "outputs": [
    {
     "data": {
      "text/plain": [
       "[['上山採藥毛穴黑頭面膜40g', '149'],\n",
       " ['提提研浸潤補水黑面膜5入盒【康是美】', '180'],\n",
       " ['我的心機高效安瓶EX保濕補水面膜（盒裝4入）【任2件5折】', '299'],\n",
       " ['專科完美保濕特潤面膜7片/盒【任2件5折】', '339'],\n",
       " ['提提研調理禦痘黑面膜5入盒', '180'],\n",
       " ['碧歐斯BIO 植萃三效水養睡美人面膜 50gX3件組', '1,095'],\n",
       " ['愛戀膜法豐台灣蘆薈絲瓜面膜5入【任2件5折】', '263'],\n",
       " ['Neogence霓淨思金盞花保濕舒緩面膜4片', '70'],\n",
       " ['SENKA專科完美保濕特潤面膜1片 【康是美】【任2件5折】', '59'],\n",
       " ['專科完美深層美白面膜5片/盒【任2件5折】', '339'],\n",
       " ['Neogence霓淨思高效保濕零觸感面膜3片', '87'],\n",
       " ['愛戀膜法豐台灣薏仁牛奶面膜5入【任2件5折】', '263'],\n",
       " ['我的美麗日記黑珍珠煥白面膜8入', '220'],\n",
       " ['未來美8分鐘極速補水面膜5入【買1送1】', '351'],\n",
       " ['韓國isLeaf極緻水感保濕面膜-珍珠22ml', '17'],\n",
       " ['韓國isLeaf極緻水感保濕面膜-膠原蛋白22ml', '17'],\n",
       " ['Neogence霓淨思深海藍藻補水保濕面膜6片', '87'],\n",
       " ['雪芙蘭時間面膜-今天我最美5入 【任2件5折】', '175'],\n",
       " ['Neogence霓淨思 自拍免修修亮白面膜4片', '219'],\n",
       " ['Neogence霓淨思 跑趴超貼妝保濕面膜4片', '219'],\n",
       " ['我的美麗日記蜜若藍超能補水面膜 5入', '220'],\n",
       " ['Neogence霓淨思 前男友超後悔吸睛面膜4片', '219'],\n",
       " ['我的美麗日記官燕窩全效滋養面膜4入', '69'],\n",
       " ['未來美8分鐘極速修護面膜5入【任2件5折】', '351'],\n",
       " ['愛戀膜法豐台灣酒粕酵母面膜5入【任2件5折】', '263'],\n",
       " ['SEXYLOOK彈力緊實雙拉提面膜10入【任2件5折】', '263'],\n",
       " ['Hada-Labo肌研 光透潤血色感美白面膜7片/盒', '281'],\n",
       " ['SEXYLOOK彈力白皙雙拉提面膜10入【任2件5折】', '263'],\n",
       " ['My Beauty Diary我的美麗日記積雪草超能舒緩修復面膜3入', '96'],\n",
       " ['COCOCHI COSME AG抗糖經典修復面膜（5入）', '571'],\n",
       " ['MEKO壓縮面膜/J-030【康是美】', '26'],\n",
       " ['KOSE嬰兒肌玻尿酸潤澤面膜7枚', '96'],\n",
       " ['韓國isLeaf極緻水感保濕面膜-蘆薈22ml', '17'],\n",
       " ['我的美麗日記玻尿酸極效保濕面膜8入', '220'],\n",
       " ['寵愛之名 維B舒緩保濕面膜4片/盒', '350'],\n",
       " ['OLAY歐蕾 水感透白光曜鑽紋彈力面膜2片', '70'],\n",
       " ['SEXYLOOK高效保濕雙拉提面膜10入【任2件5折】', '263'],\n",
       " ['我的美麗日記納豆發酵保濕面膜8入', '220'],\n",
       " ['Neogence霓淨思近距離美肌調理面膜4入', '219'],\n",
       " ['提提研保濕潤澤滋養礦泥面膜100mL', '510'],\n",
       " ['森田藥粧玻尿酸複合精華液面膜4入【任2件5折】', '210'],\n",
       " ['我的心機茶樹控油調理荳荳黑面膜8入【任2件5折】', '299'],\n",
       " ['我的心機黑珍珠潤白黑面膜8入【任2件5折】', '299'],\n",
       " ['我的美麗日記修護能亮雙激粹EX＋黑珍珠面膜6入', '220'],\n",
       " ['愛戀膜法豐台灣山玫瑰面膜5入【任2件5折】', '263'],\n",
       " ['提提研超級纖維超導水保濕面膜5入', '250'],\n",
       " ['我的美麗日記超能淨化毛孔面膜 2入', '87'],\n",
       " ['愛戀膜法豐台灣珍珠薏仁面膜5入【任2件5折】', '263'],\n",
       " ['霓淨思維他命B5保濕補給面膜6片', '263'],\n",
       " ['雪芙蘭科研時間面膜-EX保濕美白4入【任2件5折】', '175']]"
      ]
     },
     "execution_count": 87,
     "metadata": {},
     "output_type": "execute_result"
    }
   ],
   "source": [
    "test_cosmed"
   ]
  },
  {
   "cell_type": "code",
   "execution_count": 88,
   "metadata": {},
   "outputs": [
    {
     "data": {
      "text/plain": [
       "[['霓淨思N3面膜8片-多款任選', '129'],\n",
       " ['SEXYLOOK雙拉提面膜10入-多款任選', '299'],\n",
       " ['我的心機穀胱甘甘亮白黑面膜6入', '299'],\n",
       " ['美麗日記玫瑰保濕花萃面膜7入', '299'],\n",
       " ['霓淨思N7近距離美肌調理面膜4入', '249'],\n",
       " ['氧顏森活珍珠花阿里山玉露青春面膜3入', '159'],\n",
       " ['提提研超級纖維面膜2入-多款任選', '99'],\n",
       " ['美麗日記黑珍珠煥白面膜8入', '219'],\n",
       " ['DR.WU瞬效亮白膠囊面膜3片-C', '164'],\n",
       " ['我的心機高效安瓶EX面膜4入-多款任選', '299'],\n",
       " ['I DEW CARE膜法喵喵吸塵器面膜80ml', '630'],\n",
       " ['霓淨思超爆水面膜5片-清爽保濕', '299'],\n",
       " ['我的心機超能安瓶面膜4入-極致水潤', '299'],\n",
       " ['氧顏森活黑鑽松露保濕光采面膜3入', '319'],\n",
       " ['氧顏森活巴卡拉黑玫瑰抗老面膜3入', '319'],\n",
       " ['寵愛之名全能抗皺神經醯胺角鯊生物纖維面膜-單片裝', '399'],\n",
       " ['我的心機七合一晶緻煥白黑面膜8入', '299'],\n",
       " ['LOVEMORE豐台灣面膜5入-多款任選', '299'],\n",
       " ['寵愛之名亮白淨化光之鑰生物纖維面膜 3片/盒', '1,170'],\n",
       " ['FarmStay睡眠面膜20入-多款任選', '599'],\n",
       " ['美麗日記百合淨白花萃面膜7入', '299'],\n",
       " ['霓淨思N3杏仁酸淨膚亮白面膜6片', '299'],\n",
       " ['未來美8分鐘微分子面膜4入-玻尿酸保濕', '399'],\n",
       " ['我的心機晶球安瓶PRO面膜3入－多款任選', '299'],\n",
       " ['LuLuLun面膜升級款7入-平衡保濕', '245'],\n",
       " ['LuLuLun大女孩面膜升級款22ml-濃密保濕', '75'],\n",
       " ['萊雅礦物淨化泥面膜控油淨化型 50ml', '329'],\n",
       " ['LuLuLun大女孩面膜升級款22ml-彈力光澤', '75'],\n",
       " ['Perfect專科完美面膜5片-多款任選', '339'],\n",
       " ['FarmStay超級食物雙效面膜5入組-椰子', '105'],\n",
       " ['JAYJUN水光美白三重奏面膜10入', '990'],\n",
       " ['MEDIHEAL高效特強保濕導入面膜升級版27ml', '99'],\n",
       " ['肌研光透潤面膜8入-亮澤緊緻', '399'],\n",
       " ['DR.WU保濕舒緩膠囊面膜3片-B', '164'],\n",
       " ['未來美超級A醇緊緻透亮面膜3入', '399'],\n",
       " ['未來美EX8分鐘逆時空膠囊面膜3入-亮白', '399'],\n",
       " ['霓淨思維他命C淨白補給面膜6入', '129'],\n",
       " ['肌研光透潤血色感美白面膜', '399'],\n",
       " ['霓淨思N3面膜4片-金盞花保濕舒緩', '249'],\n",
       " ['Dermal膠原蛋白精華面膜3入裝-多款任選', '199'],\n",
       " ['肌研光透潤面膜6入-多款任選', '399'],\n",
       " ['AHC微導壓力面膜3入-紅石榴彈力', '450'],\n",
       " ['霓淨思維他命B5保濕補給面膜6入', '129'],\n",
       " ['Barulab Vegan純素面膜 兩入組', '159'],\n",
       " ['霓淨思9重玻尿酸水嫩白皙面膜5片', '179'],\n",
       " ['依洛嘉磁石撫紋精華面膜5入裝-黑', '225'],\n",
       " ['FarmStay超級食物雙效面膜5入組-紅蘿蔔', '105'],\n",
       " ['美麗日記納豆極潤保濕面膜8入', '219'],\n",
       " ['美麗日記蘋果多酚毛孔緊緻面膜8入', '219'],\n",
       " ['美麗日記蜜若藍超能補水面膜5入', '219']]"
      ]
     },
     "execution_count": 88,
     "metadata": {},
     "output_type": "execute_result"
    }
   ],
   "source": [
    "test_poya"
   ]
  },
  {
   "cell_type": "code",
   "execution_count": null,
   "metadata": {},
   "outputs": [],
   "source": []
  }
 ],
 "metadata": {
  "kernelspec": {
   "display_name": "Python 3.10.2 64-bit",
   "language": "python",
   "name": "python3"
  },
  "language_info": {
   "codemirror_mode": {
    "name": "ipython",
    "version": 3
   },
   "file_extension": ".py",
   "mimetype": "text/x-python",
   "name": "python",
   "nbconvert_exporter": "python",
   "pygments_lexer": "ipython3",
   "version": "3.10.2"
  },
  "orig_nbformat": 4,
  "vscode": {
   "interpreter": {
    "hash": "fb4569285eef3a3450cb62085a5b1e0da4bce0af555edc33dcf29baf3acc1368"
   }
  }
 },
 "nbformat": 4,
 "nbformat_minor": 2
}
