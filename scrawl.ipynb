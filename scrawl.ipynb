{
 "cells": [
  {
   "cell_type": "code",
   "execution_count": null,
   "metadata": {},
   "outputs": [],
   "source": [
    "from selenium import webdriver  #從library中引入webdriver\n",
    "from selenium.webdriver.common.by import By\n",
    "from selenium.webdriver import ActionChains\n",
    "from selenium.webdriver.common.keys import Keys\n",
    "from selenium.webdriver.support import expected_conditions as EC\n",
    "from selenium.webdriver.support.ui import WebDriverWait\n",
    "import time"
   ]
  },
  {
   "cell_type": "code",
   "execution_count": 15,
   "metadata": {},
   "outputs": [],
   "source": [
    "\n",
    "def watson_search(keywords):\n",
    "    watsons = webdriver.Firefox(executable_path=r'C:\\Users\\user\\OneDrive\\桌面\\git\\final\\geckodriver.exe')\n",
    "    time.sleep(1)\n",
    "    watsons.get(\"https://shopee.tw/watsons_taiwan\")\n",
    "    # 定位搜尋框\n",
    "    time.sleep(1)\n",
    "    search_watsons = watsons.find_element(By.CSS_SELECTOR,\"input.shopee-searchbar-input__input\")\n",
    "\n",
    "    # 傳入字串\n",
    "    ActionChains(watsons).move_to_element(search_watsons).pause(1).double_click().pause(1)\\\n",
    "    .send_keys(keywords).send_keys(Keys.ENTER).send_keys(Keys.ENTER).perform()\n",
    "\n",
    "    #scroll\n",
    "    time.sleep(1)\n",
    "    watson_scrawl = scroll(watsons)\n",
    "    return watson_scrawl\n",
    "\n",
    "    "
   ]
  },
  {
   "cell_type": "code",
   "execution_count": 28,
   "metadata": {},
   "outputs": [],
   "source": [
    "def cosmed_search(keywords):\n",
    "    cosmed = webdriver.Firefox(executable_path=r'C:\\Users\\user\\OneDrive\\桌面\\git\\final\\geckodriver.exe')\n",
    "    time.sleep(1)\n",
    "    cosmed.get(\"https://shopee.tw/cosmed.tw\")\n",
    "\n",
    "    # 定位搜尋框\n",
    "    time.sleep(1)\n",
    "    search_cosmed = cosmed.find_element(By.CSS_SELECTOR,\"input.shopee-searchbar-input__input\")\n",
    "\n",
    "    # 傳入字串\n",
    "    ActionChains(cosmed).move_to_element(search_cosmed).pause(1).double_click().pause(1)\\\n",
    "    .send_keys(keywords).send_keys(Keys.ENTER).send_keys(Keys.ENTER).perform()\n",
    "\n",
    "    #scroll\n",
    "    time.sleep(1)\n",
    "    cosmed_scrawl = scroll(cosmed)\n",
    "    return cosmed_scrawl"
   ]
  },
  {
   "cell_type": "code",
   "execution_count": 31,
   "metadata": {},
   "outputs": [],
   "source": [
    "def poya_search(keywords):\n",
    "    poya = webdriver.Firefox(executable_path=r'C:\\Users\\user\\OneDrive\\桌面\\git\\final\\geckodriver.exe')\n",
    "    time.sleep(1)\n",
    "    poya.get(\"https://shopee.tw/poya888\")\n",
    "\n",
    "    # 定位搜尋框\n",
    "    time.sleep(1)\n",
    "    search_poya = poya.find_element(By.CSS_SELECTOR,\"input.shopee-searchbar-input__input\")\n",
    "\n",
    "    # 傳入字串\n",
    "    ActionChains(poya).move_to_element(search_poya).pause(1).double_click().pause(1)\\\n",
    "    .send_keys(keywords).send_keys(Keys.ENTER).send_keys(Keys.ENTER).perform()\n",
    "\n",
    "    #scroll\n",
    "    time.sleep(1)\n",
    "    poya_scrawl = scroll(poya)\n",
    "    return poya_scrawl"
   ]
  },
  {
   "cell_type": "code",
   "execution_count": null,
   "metadata": {},
   "outputs": [],
   "source": []
  }
 ],
 "metadata": {
  "kernelspec": {
   "display_name": "Python 3.10.2 64-bit",
   "language": "python",
   "name": "python3"
  },
  "language_info": {
   "codemirror_mode": {
    "name": "ipython",
    "version": 3
   },
   "file_extension": ".py",
   "mimetype": "text/x-python",
   "name": "python",
   "nbconvert_exporter": "python",
   "pygments_lexer": "ipython3",
   "version": "3.10.2"
  },
  "orig_nbformat": 4,
  "vscode": {
   "interpreter": {
    "hash": "fb4569285eef3a3450cb62085a5b1e0da4bce0af555edc33dcf29baf3acc1368"
   }
  }
 },
 "nbformat": 4,
 "nbformat_minor": 2
}
