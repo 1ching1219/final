{
 "cells": [
  {
   "cell_type": "code",
   "execution_count": 26,
   "metadata": {},
   "outputs": [],
   "source": [
    "import requests as rq\n",
    "from bs4 import BeautifulSoup"
   ]
  },
  {
   "cell_type": "code",
   "execution_count": 54,
   "metadata": {},
   "outputs": [
    {
     "name": "stderr",
     "output_type": "stream",
     "text": [
      "C:\\Users\\user\\AppData\\Local\\Temp\\ipykernel_23920\\3673682327.py:19: DeprecationWarning: find_element_by_css_selector is deprecated. Please use find_element(by=By.CSS_SELECTOR, value=css_selector) instead\n",
      "  search_cosmed = cosmed.find_element_by_css_selector(\"input[type='text']\")\n"
     ]
    }
   ],
   "source": [
    "from selenium import webdriver  #從library中引入webdriver\n",
    "from selenium.webdriver.common.by import By\n",
    "from selenium.webdriver import ActionChains\n",
    "from selenium.webdriver.common.keys import Keys\n",
    "from selenium.webdriver.support import expected_conditions as EC\n",
    "from selenium.webdriver.support.ui import WebDriverWait\n",
    "import time\n",
    "\n",
    "watsons = webdriver.Chrome()\n",
    "cosmed = webdriver.Chrome()\n",
    "poya = webdriver.Chrome()\n",
    "time.sleep(1)\n",
    "watsons.get(\"https://www.watsons.com.tw/\")\n",
    "cosmed.get(\"https://www.cosmed.com.tw/\")\n",
    "poya.get(\"https://www.poyabuy.com.tw/?utm_source=PoyaWeb&utm_medium=Link&utm_campaign=lndexlink\")\n",
    "\n",
    "# 定位搜尋框\n",
    "search_poya = poya.find_element(By.CSS_SELECTOR, 'input.ns-search-input')\n",
    "search_cosmed = cosmed.find_element_by_css_selector(\"input[type='text']\")\n",
    "\n",
    "# 傳入字串\n",
    "WebDriverWait(watsons, 20).until(EC.element_to_be_clickable((By.XPATH, \"/html/body//input[1]\"))).send_keys('化妝棉', Keys.ENTER)\n",
    "\n",
    "ActionChains(poya).move_to_element(search_poya).pause(1).double_click().pause(1)\\\n",
    ".send_keys('化妝棉').send_keys(Keys.ENTER).send_keys(Keys.ENTER).perform()\n",
    "\n",
    "ActionChains(cosmed).move_to_element(search_cosmed).pause(1).double_click().pause(1)\\\n",
    ".send_keys('化妝棉').send_keys(Keys.ENTER).perform()\n",
    "\n"
   ]
  }
 ],
 "metadata": {
  "kernelspec": {
   "display_name": "Python 3.10.2 64-bit",
   "language": "python",
   "name": "python3"
  },
  "language_info": {
   "codemirror_mode": {
    "name": "ipython",
    "version": 3
   },
   "file_extension": ".py",
   "mimetype": "text/x-python",
   "name": "python",
   "nbconvert_exporter": "python",
   "pygments_lexer": "ipython3",
   "version": "3.10.2"
  },
  "orig_nbformat": 4,
  "vscode": {
   "interpreter": {
    "hash": "fb4569285eef3a3450cb62085a5b1e0da4bce0af555edc33dcf29baf3acc1368"
   }
  }
 },
 "nbformat": 4,
 "nbformat_minor": 2
}
