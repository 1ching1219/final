{
 "cells": [
  {
   "cell_type": "code",
   "execution_count": 70,
   "metadata": {},
   "outputs": [],
   "source": [
    "from selenium import webdriver  #從library中引入webdriver\n",
    "from selenium.webdriver.common.by import By\n",
    "from selenium.webdriver import ActionChains\n",
    "from selenium.webdriver.common.keys import Keys\n",
    "from selenium.webdriver.support import expected_conditions as EC\n",
    "from selenium.webdriver.support.ui import WebDriverWait\n",
    "import time"
   ]
  },
  {
   "cell_type": "code",
   "execution_count": 71,
   "metadata": {},
   "outputs": [],
   "source": [
    "def scroll(website):\n",
    "    height = website.execute_script('return document.documentElement.scrollHeight')\n",
    "    i = 1\n",
    "    while True:\n",
    "        if (i == 1):\n",
    "            website.execute_script('window.scrollTo(0, document.documentElement.scrollHeight/6)')\n",
    "            time.sleep(1)\n",
    "        if(i == 2): \n",
    "            website.execute_script('window.scrollTo(0, document.documentElement.scrollHeight/3)')\n",
    "            time.sleep(1)\n",
    "        if(i == 3): \n",
    "            website.execute_script('window.scrollTo(0, document.documentElement.scrollHeight/2)')\n",
    "            time.sleep(1)\n",
    "\n",
    "        i+=1\n",
    "\n",
    "        newheight = website.execute_script('return document.documentElement.scrollHeight')\n",
    "        if i==4:\n",
    "            website.execute_script('window.scrollTo(0, document.documentElement.scrollHeight)/1.2')\n",
    "            break\n",
    "        height = newheight\n",
    "        \n",
    "    time.sleep(3)\n",
    "    brands_price=[]\n",
    "    products= website.find_elements(By.CSS_SELECTOR, 'div.KMyn8J')\n",
    "    for p in products:\n",
    "        brand = p.find_elements(By.CSS_SELECTOR, 'div.Cve6sh')\n",
    "        price = p.find_elements(By.CSS_SELECTOR, 'span.ZEgDH9')\n",
    "        brands_price.append([brand[0].text, price[0].text])\n",
    "\n",
    "    return brands_price"
   ]
  },
  {
   "cell_type": "code",
   "execution_count": 72,
   "metadata": {},
   "outputs": [],
   "source": [
    "\n",
    "def watson_search(keywords):\n",
    "    watsons = webdriver.Firefox(executable_path=r'C:\\Users\\user\\OneDrive\\桌面\\git\\final\\geckodriver.exe')\n",
    "    time.sleep(1)\n",
    "    watsons.get(\"https://shopee.tw/watsons_taiwan\")\n",
    "    # 定位搜尋框\n",
    "    time.sleep(1)\n",
    "    search_watsons = watsons.find_element(By.CSS_SELECTOR,\"input.shopee-searchbar-input__input\")\n",
    "\n",
    "    # 傳入字串\n",
    "    ActionChains(watsons).move_to_element(search_watsons).pause(1).double_click().pause(1)\\\n",
    "    .send_keys(keywords).send_keys(Keys.ENTER).send_keys(Keys.ENTER).perform()\n",
    "\n",
    "    #scroll\n",
    "    time.sleep(1)\n",
    "    watson_scrawl = scroll(watsons)\n",
    "    return watson_scrawl\n",
    "\n",
    "    "
   ]
  },
  {
   "cell_type": "code",
   "execution_count": 73,
   "metadata": {},
   "outputs": [],
   "source": [
    "def cosmed_search(keywords):\n",
    "    cosmed = webdriver.Firefox(executable_path=r'C:\\Users\\user\\OneDrive\\桌面\\git\\final\\geckodriver.exe')\n",
    "    time.sleep(1)\n",
    "    cosmed.get(\"https://shopee.tw/cosmed.tw\")\n",
    "\n",
    "    # 定位搜尋框\n",
    "    time.sleep(1)\n",
    "    search_cosmed = cosmed.find_element(By.CSS_SELECTOR,\"input.shopee-searchbar-input__input\")\n",
    "\n",
    "    # 傳入字串\n",
    "    ActionChains(cosmed).move_to_element(search_cosmed).pause(1).double_click().pause(1)\\\n",
    "    .send_keys(keywords).send_keys(Keys.ENTER).send_keys(Keys.ENTER).perform()\n",
    "\n",
    "    #scroll\n",
    "    time.sleep(1)\n",
    "    cosmed_scrawl = scroll(cosmed)\n",
    "    return cosmed_scrawl"
   ]
  },
  {
   "cell_type": "code",
   "execution_count": 74,
   "metadata": {},
   "outputs": [],
   "source": [
    "def poya_search(keywords):\n",
    "    poya = webdriver.Firefox(executable_path=r'C:\\Users\\user\\OneDrive\\桌面\\git\\final\\geckodriver.exe')\n",
    "    time.sleep(1)\n",
    "    poya.get(\"https://shopee.tw/poya888\")\n",
    "\n",
    "    # 定位搜尋框\n",
    "    time.sleep(1)\n",
    "    search_poya = poya.find_element(By.CSS_SELECTOR,\"input.shopee-searchbar-input__input\")\n",
    "\n",
    "    # 傳入字串\n",
    "    ActionChains(poya).move_to_element(search_poya).pause(1).double_click().pause(1)\\\n",
    "    .send_keys(keywords).send_keys(Keys.ENTER).send_keys(Keys.ENTER).perform()\n",
    "\n",
    "    #scroll\n",
    "    time.sleep(1)\n",
    "    poya_scrawl = scroll(poya)\n",
    "    return poya_scrawl"
   ]
  },
  {
   "cell_type": "code",
   "execution_count": 75,
   "metadata": {},
   "outputs": [
    {
     "name": "stderr",
     "output_type": "stream",
     "text": [
      "C:\\Users\\user\\AppData\\Local\\Temp\\ipykernel_6508\\1026734557.py:2: DeprecationWarning: executable_path has been deprecated, please pass in a Service object\n",
      "  watsons = webdriver.Firefox(executable_path=r'C:\\Users\\user\\OneDrive\\桌面\\git\\final\\geckodriver.exe')\n"
     ]
    }
   ],
   "source": [
    "test_wastons = watson_search('面膜')\n",
    "test_cosmed = cosmed_search('面膜')\n",
    "test_poya = poya_search('面膜')"
   ]
  },
  {
   "cell_type": "code",
   "execution_count": 77,
   "metadata": {},
   "outputs": [
    {
     "data": {
      "text/plain": [
       "[['韓國isLeaf極緻水感保濕面膜22ml-玻尿酸', '13'],\n",
       " ['韓國isLeaf極緻水感保濕面膜22ml-膠原蛋白', '13'],\n",
       " ['韓國isLeaf極緻水感保濕面膜22ml-珍珠', '13'],\n",
       " ['韓國isLeaf極緻水感保濕面膜22ml-蘆薈', '13'],\n",
       " ['霓淨思印度積雪草注水修護面膜8入', '299'],\n",
       " ['霓淨思深海藍藻補水保濕面膜6片', '299'],\n",
       " ['霓淨思高效保濕零觸感面膜3片', '87'],\n",
       " ['NARUKO 茶樹神奇痘痘黑面膜8入', '198'],\n",
       " ['森田藥粧極奢華黃金特濃保濕面膜5入', '141'],\n",
       " ['肌研光透潤深層美白面膜 8片', '351'],\n",
       " ['NARUKO茶樹控油痘黑天王3+1面膜組茶樹*3入+紅薏仁*1入', '96'],\n",
       " ['Dr.Satin頂級魚子高效保濕面膜30ml-3片入', '140'],\n",
       " ['NARUKO紅薏仁健康雪白面膜10入', '193'],\n",
       " ['Labo Labo毛孔緊緻早晚安面膜32片【日本醫美第一品牌】', '351'],\n",
       " ['韓國isLeaf極緻水感保濕面膜22ml-蝸牛', '13'],\n",
       " ['我的心機 肌優安瓶賦活保濕面膜4入', '175'],\n",
       " ['我的心機‧濃潤玻尿酸保濕鎖水黑面膜8入', '175'],\n",
       " ['霓淨思N7跑趴超貼妝保濕面膜5片', '299'],\n",
       " ['森田藥粧縮時煥白透亮面膜4入', '141'],\n",
       " ['范倫鐵諾 玻尿酸深層保濕雙V拉提面膜10入', '220'],\n",
       " ['霓淨思杏仁酸淨膚亮白面膜6入', '299'],\n",
       " ['肌研光透潤瞬效補水面膜8片', '351'],\n",
       " ['我的心機．濃潤淨化調理毛孔細緻黑面膜8入', '175'],\n",
       " ['范倫鐵諾 深透白淡斑雙V拉提面膜 10入', '220'],\n",
       " ['范倫鐵諾 九胜月太美白雙拉提面膜 10入/盒', '220'],\n",
       " ['我的心機-淨化調理毛孔細緻面膜10入', '299'],\n",
       " ['我的心機‧濃潤七合一晶緻煥白黑面膜8入', '175'],\n",
       " ['TT波特嫚 蝸牛氣墊保濕面膜4入盒', '116'],\n",
       " ['我的心機‧濃潤蝸牛保水修護黑面膜8入', '175'],\n",
       " ['森田藥粧多重玻尿酸複合精華高保濕面膜4入', '141'],\n",
       " ['森田藥粧高純度玻尿酸保濕潤澤面膜8入', '229'],\n",
       " ['森田藥粧積雪草舒活面膜4入', '141'],\n",
       " ['我的心機 肌優安瓶活顏美白面膜4入', '175'],\n",
       " ['霓淨思N7近距離美肌調理面膜5片', '299'],\n",
       " ['天天美麗 角鯊烷速效面膜單片', '34'],\n",
       " ['肌研光透潤亮澤緊緻面膜 8片', '351'],\n",
       " ['霓淨思澳洲茶樹平衡淨化面膜8入', '299'],\n",
       " ['我的心機 深層清潔毛孔緊緻面膜1入', '39'],\n",
       " ['豐台灣蘆薈絲瓜沁潤蠶絲面膜5入', '299'],\n",
       " ['肌研光透潤極致水潤面膜 8片', '351'],\n",
       " ['豐台灣薏仁牛奶柔白蠶絲面膜5入', '299'],\n",
       " ['我的心機 超能安瓶極致水潤面膜4入', '175'],\n",
       " ['我的心機 玻尿酸鎖水保濕面膜10入', '299'],\n",
       " ['Dr.Satin 珍珠潤白活膚精華面膜30ml-3片入', '140'],\n",
       " ['肌研光透潤深層美白面膜 1片', '43'],\n",
       " ['洗顏專科完美保濕特潤面膜7片/盒', '351'],\n",
       " ['霓淨思N7前男友超後悔吸睛面膜5片', '299'],\n",
       " ['BCL Saborino早安面膜 32枚入', '410'],\n",
       " ['Dr.Satin 珍珠潤白活膚精華面膜30ml 3片入*4盒超值組', '517'],\n",
       " ['NARUKO森玫瑰水立方保濕面膜EX 10入', '193']]"
      ]
     },
     "execution_count": 77,
     "metadata": {},
     "output_type": "execute_result"
    }
   ],
   "source": [
    "test_wastons\n"
   ]
  },
  {
   "cell_type": "code",
   "execution_count": 78,
   "metadata": {},
   "outputs": [
    {
     "data": {
      "text/plain": [
       "[['霓淨思維他命B5保濕補給面膜6片', '263'],\n",
       " ['Neogence霓淨思金盞花保濕舒緩面膜4片', '70'],\n",
       " ['Neogence霓淨思深海藍藻補水保濕面膜6片', '87'],\n",
       " ['愛戀膜法豐台灣蘆薈絲瓜面膜5入【任2件5折】', '263'],\n",
       " ['未來美8分鐘極速補水面膜5入【買1送1】', '351'],\n",
       " ['Neogence霓淨思高效保濕零觸感面膜3片', '87'],\n",
       " ['Neogence霓淨思 自拍免修修亮白面膜4片', '219'],\n",
       " ['Neogence霓淨思近距離美肌調理面膜4入', '219'],\n",
       " ['我的美麗日記黑珍珠煥白面膜8入', '220'],\n",
       " ['肌研光透潤深層美白面膜（盒裝8入）', '351'],\n",
       " ['我的美麗日記超能補水保濕面膜20片組', '469'],\n",
       " ['OLAY歐蕾 水感透白光曜鑽紋彈力面膜2片', '70'],\n",
       " ['KOSE嬰兒肌玻尿酸潤澤面膜7枚', '96'],\n",
       " ['Neogence霓淨思 跑趴超貼妝保濕面膜4片', '219'],\n",
       " ['我的美麗日記玻尿酸極效保濕面膜8入', '220'],\n",
       " ['我的美麗日記蜜若藍超能補水面膜 5入', '220'],\n",
       " ['MEKO壓縮面膜/J-030【康是美】', '26'],\n",
       " ['韓國isLeaf極緻水感保濕面膜-膠原蛋白22ml', '17'],\n",
       " ['韓國isLeaf極緻水感保濕面膜-珍珠22ml', '17'],\n",
       " ['我的美麗日記官燕窩全效滋養面膜4入', '69'],\n",
       " ['愛戀膜法豐台灣山玫瑰面膜5入【任2件5折】', '263'],\n",
       " ['森田高純度玻尿酸潤澤面膜10入【康是美】', '246'],\n",
       " ['Neogence霓淨思熊果素美白淡斑面膜6片', '87'],\n",
       " ['提提研水潤再生肌能面膜5入', '282'],\n",
       " ['我的心機超能安瓶晶亮透白面膜（盒裝4入）【買1送1】', '299'],\n",
       " ['我的美麗日記超能淨化毛孔面膜 2入', '87'],\n",
       " ['提提研超級纖維超導水保濕面膜5入', '250'],\n",
       " ['肌研光透潤瞬效補水面膜（盒裝8入）', '351'],\n",
       " ['Neogence霓淨思 韓妞水光妝前保濕面膜4片', '219'],\n",
       " ['寵愛之名 維B舒緩保濕面膜4片/盒', '350'],\n",
       " ['我的美麗日記維他命B5＋C修護面膜4入', '96'],\n",
       " ['Neogence霓淨思積雪草注水修護面膜8片【任2件5折】', '263'],\n",
       " ['My Beauty Diary我的美麗日記積雪草超能舒緩修復面膜3入', '96'],\n",
       " ['Forest Beauty氧顏森活_紅石榴多酚凍齡面膜_2入體驗組', '87'],\n",
       " ['我的心機高效安瓶EX保濕補水面膜（盒裝4入）【任2件5折】', '299'],\n",
       " ['Neogence霓淨思 Ｎ7韓妞跑趴水亮4入組', '87'],\n",
       " ['韓國isLeaf極緻水感保濕面膜-小黃瓜22ml', '17'],\n",
       " ['Forest Beauty氧顏森活_西洋接骨木花新煥修護面膜_2入體驗組', '87'],\n",
       " ['高絲光映透-速攻集中安心面膜7枚入', '229'],\n",
       " ['森田藥粧瞬效極緻保濕精華面膜3入', '87'],\n",
       " ['愛戀膜法豐台灣薏仁牛奶面膜5入【任2件5折】', '263'],\n",
       " ['AHC安瓶精華天絲纖維面膜[玻尿酸保濕]5片/盒', '528'],\n",
       " ['Hada-Labo肌研 光透潤血色感美白面膜7片/盒', '281'],\n",
       " ['肌研光透潤極致水潤面膜（盒裝8入）', '351'],\n",
       " ['BCL Saborino早安面膜（清爽型）32枚入', '395'],\n",
       " ['高絲光映透-爆彈保濕療癒面膜7枚入', '229'],\n",
       " ['Neogence霓淨思 全方位保濕透亮節慶限定組（13片入）', '263'],\n",
       " ['BCL Saborino早安面膜 32枚入', '395'],\n",
       " ['未來美8分鐘極速淨白面膜5入【任2件5折】', '351'],\n",
       " ['雪芙蘭科研時間面膜-EX保濕修護4入【任2件5折】', '175']]"
      ]
     },
     "execution_count": 78,
     "metadata": {},
     "output_type": "execute_result"
    }
   ],
   "source": [
    "test_cosmed"
   ]
  },
  {
   "cell_type": "code",
   "execution_count": 79,
   "metadata": {},
   "outputs": [
    {
     "data": {
      "text/plain": [
       "[['霓淨思N3面膜8片-多款任選', '129'],\n",
       " ['LOVEMORE豐台灣面膜5入-多款任選', '299'],\n",
       " ['霓淨思N7近距離美肌調理面膜4入', '249'],\n",
       " ['美麗日記玫瑰保濕花萃面膜7入', '299'],\n",
       " ['氧顏森活黑鑽松露保濕光采面膜3入', '319'],\n",
       " ['氧顏森活巴卡拉黑玫瑰抗老面膜3入', '319'],\n",
       " ['LOVEMORE豐台灣面膜5入-多款任選', '299'],\n",
       " ['提提研超級纖維面膜2入-多款任選', '99'],\n",
       " ['美麗日記黑珍珠煥白面膜8入', '219'],\n",
       " ['我的心機穀胱甘甘亮白黑面膜6入', '299'],\n",
       " ['寵愛之名全能抗皺神經醯胺角鯊生物纖維面膜-單片裝', '399'],\n",
       " ['寵愛之名維A深層保濕面膜4片', '398'],\n",
       " ['未來美超級A醇緊緻透亮面膜3入', '399'],\n",
       " ['霓淨思維他命B5保濕補給面膜6入', '129'],\n",
       " ['Perfect專科完美面膜5片-多款任選', '339'],\n",
       " ['氧顏森活桂花白茶賦活亮白面膜3入', '319'],\n",
       " ['霓淨思超爆水面膜5片-清爽保濕', '299'],\n",
       " ['寵愛之名維B舒緩保濕面膜4片', '398'],\n",
       " ['寵愛之名亮白淨化光之鑰生物纖維面膜 3片/盒', '1,170'],\n",
       " ['SEXYLOOK雙拉提面膜10入-多款任選', '299'],\n",
       " ['我的心機高效安瓶EX面膜4入-多款任選', '299'],\n",
       " ['我的心機七合一晶緻煥白黑面膜8入', '299'],\n",
       " ['我的心機超能安瓶面膜4入-極致水潤', '299'],\n",
       " ['氧顏森活紅石榴多酚凍齡面膜3入', '319'],\n",
       " ['美麗日記百合淨白花萃面膜7入', '299'],\n",
       " ['霓淨思N3杏仁酸淨膚亮白面膜6片', '299'],\n",
       " ['我的心機綠活藻琥珀酸淨化黑面膜6入', '299'],\n",
       " ['Perfect專科極效服貼面膜4片-多款任選', '339'],\n",
       " ['寵愛之名維E抗皺保濕面膜4片', '398'],\n",
       " ['肌研光透潤血色感彈潤面膜', '399'],\n",
       " ['DR.WU保濕舒緩膠囊面膜3片-B', '164'],\n",
       " ['氧顏森活珍珠花阿里山玉露青春面膜3入', '159'],\n",
       " ['肌研光透潤血色感美白面膜', '399'],\n",
       " ['肌研光透潤面膜6入-多款任選', '399'],\n",
       " ['霓淨思N3熊果素美白淡斑保濕面膜6片', '299'],\n",
       " ['我的心機-玻尿酸保濕鎖水黑面膜8入', '299'],\n",
       " ['我的心機黑面膜8入-多款任選', '299'],\n",
       " ['I DEW CARE膜法喵喵吸塵器面膜80ml', '630'],\n",
       " ['我的心機淨化調理毛孔細緻黑面膜8入', '299'],\n",
       " ['DR.WU瞬效亮白膠囊面膜3片-C', '164'],\n",
       " ['森田藥粧瞬效安瓶潤導面膜4入-2款任選', '239'],\n",
       " ['美麗日記官燕窩頂級全效面膜8入', '219'],\n",
       " ['美麗日記金縷梅控油花萃面膜7入', '299'],\n",
       " ['未來美EX8分鐘PLUS升級潤白面膜4入', '399'],\n",
       " ['日本毛穴小町毛孔緊緻面膜7入', '269'],\n",
       " ['Perfect專科完美面膜7片-多款任選(保濕特潤、彈力透亮)', '339'],\n",
       " ['FarmStay睡眠面膜20入-多款任選', '599'],\n",
       " ['霓淨思玻尿酸保濕面膜4入', '500'],\n",
       " ['未來美8分鐘微分子面膜4入-玻尿酸保濕', '399'],\n",
       " ['LuLuLun面膜升級款7入-平衡保濕', '245']]"
      ]
     },
     "execution_count": 79,
     "metadata": {},
     "output_type": "execute_result"
    }
   ],
   "source": [
    "test_poya"
   ]
  },
  {
   "cell_type": "code",
   "execution_count": null,
   "metadata": {},
   "outputs": [],
   "source": []
  }
 ],
 "metadata": {
  "kernelspec": {
   "display_name": "Python 3.10.2 64-bit",
   "language": "python",
   "name": "python3"
  },
  "language_info": {
   "codemirror_mode": {
    "name": "ipython",
    "version": 3
   },
   "file_extension": ".py",
   "mimetype": "text/x-python",
   "name": "python",
   "nbconvert_exporter": "python",
   "pygments_lexer": "ipython3",
   "version": "3.10.2"
  },
  "orig_nbformat": 4,
  "vscode": {
   "interpreter": {
    "hash": "fb4569285eef3a3450cb62085a5b1e0da4bce0af555edc33dcf29baf3acc1368"
   }
  }
 },
 "nbformat": 4,
 "nbformat_minor": 2
}
