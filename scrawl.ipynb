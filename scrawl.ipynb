{
 "cells": [
  {
   "cell_type": "code",
   "execution_count": 1,
   "metadata": {},
   "outputs": [],
   "source": [
    "import requests as rq\n",
    "from bs4 import BeautifulSoup"
   ]
  },
  {
   "cell_type": "code",
   "execution_count": 43,
   "metadata": {},
   "outputs": [
    {
     "ename": "NoSuchElementException",
     "evalue": "Message: no such element: Unable to locate element: {\"method\":\"css selector\",\"selector\":\"form.search-block mobile>input\"}\n  (Session info: chrome=107.0.5304.122)\nStacktrace:\nBacktrace:\n\tOrdinal0 [0x00DCACD3+2075859]\n\tOrdinal0 [0x00D5EE61+1633889]\n\tOrdinal0 [0x00C5B7BD+571325]\n\tOrdinal0 [0x00C8AC2F+764975]\n\tOrdinal0 [0x00C8AE1B+765467]\n\tOrdinal0 [0x00CBD0F2+970994]\n\tOrdinal0 [0x00CA7364+881508]\n\tOrdinal0 [0x00CBB56A+963946]\n\tOrdinal0 [0x00CA7136+880950]\n\tOrdinal0 [0x00C7FEFD+720637]\n\tOrdinal0 [0x00C80F3F+724799]\n\tGetHandleVerifier [0x0107EED2+2769538]\n\tGetHandleVerifier [0x01070D95+2711877]\n\tGetHandleVerifier [0x00E5A03A+521194]\n\tGetHandleVerifier [0x00E58DA0+516432]\n\tOrdinal0 [0x00D6682C+1665068]\n\tOrdinal0 [0x00D6B128+1683752]\n\tOrdinal0 [0x00D6B215+1683989]\n\tOrdinal0 [0x00D76484+1729668]\n\tBaseThreadInitThunk [0x769B6939+25]\n\tRtlGetFullPathName_UEx [0x76F58FD2+1218]\n\tRtlGetFullPathName_UEx [0x76F58F9D+1165]\n",
     "output_type": "error",
     "traceback": [
      "\u001b[1;31m---------------------------------------------------------------------------\u001b[0m",
      "\u001b[1;31mNoSuchElementException\u001b[0m                    Traceback (most recent call last)",
      "\u001b[1;32mc:\\Users\\user\\OneDrive\\桌面\\git\\final\\scrawl.ipynb Cell 2\u001b[0m in \u001b[0;36m<module>\u001b[1;34m\u001b[0m\n\u001b[0;32m     <a href='vscode-notebook-cell:/c%3A/Users/user/OneDrive/%E6%A1%8C%E9%9D%A2/git/final/scrawl.ipynb#X11sZmlsZQ%3D%3D?line=11'>12</a>\u001b[0m cosmed\u001b[39m.\u001b[39mget(\u001b[39m\"\u001b[39m\u001b[39mhttps://www.cosmed.com.tw/\u001b[39m\u001b[39m\"\u001b[39m)\n\u001b[0;32m     <a href='vscode-notebook-cell:/c%3A/Users/user/OneDrive/%E6%A1%8C%E9%9D%A2/git/final/scrawl.ipynb#X11sZmlsZQ%3D%3D?line=12'>13</a>\u001b[0m \u001b[39m# poya.get(\"https://www.poyabuy.com.tw/?utm_source=PoyaWeb&utm_medium=Link&utm_campaign=lndexlink\")\u001b[39;00m\n\u001b[0;32m     <a href='vscode-notebook-cell:/c%3A/Users/user/OneDrive/%E6%A1%8C%E9%9D%A2/git/final/scrawl.ipynb#X11sZmlsZQ%3D%3D?line=13'>14</a>\u001b[0m \n\u001b[0;32m     <a href='vscode-notebook-cell:/c%3A/Users/user/OneDrive/%E6%A1%8C%E9%9D%A2/git/final/scrawl.ipynb#X11sZmlsZQ%3D%3D?line=14'>15</a>\u001b[0m \u001b[39m# 定位搜尋框\u001b[39;00m\n\u001b[0;32m     <a href='vscode-notebook-cell:/c%3A/Users/user/OneDrive/%E6%A1%8C%E9%9D%A2/git/final/scrawl.ipynb#X11sZmlsZQ%3D%3D?line=15'>16</a>\u001b[0m \u001b[39m# search_poya = poya.find_element(By.CSS_SELECTOR, 'input.ns-search-input')\u001b[39;00m\n\u001b[1;32m---> <a href='vscode-notebook-cell:/c%3A/Users/user/OneDrive/%E6%A1%8C%E9%9D%A2/git/final/scrawl.ipynb#X11sZmlsZQ%3D%3D?line=16'>17</a>\u001b[0m search_cosmed \u001b[39m=\u001b[39m cosmed\u001b[39m.\u001b[39;49mfind_element(By\u001b[39m.\u001b[39;49mCSS_SELECTOR, \u001b[39m'\u001b[39;49m\u001b[39mform.search-block mobile>input\u001b[39;49m\u001b[39m'\u001b[39;49m)\n",
      "File \u001b[1;32mc:\\Users\\user\\AppData\\Local\\Programs\\Python\\Python310\\lib\\site-packages\\selenium\\webdriver\\remote\\webdriver.py:1248\u001b[0m, in \u001b[0;36mWebDriver.find_element\u001b[1;34m(self, by, value)\u001b[0m\n\u001b[0;32m   1245\u001b[0m     by \u001b[39m=\u001b[39m By\u001b[39m.\u001b[39mCSS_SELECTOR\n\u001b[0;32m   1246\u001b[0m     value \u001b[39m=\u001b[39m \u001b[39m'\u001b[39m\u001b[39m[name=\u001b[39m\u001b[39m\"\u001b[39m\u001b[39m%s\u001b[39;00m\u001b[39m\"\u001b[39m\u001b[39m]\u001b[39m\u001b[39m'\u001b[39m \u001b[39m%\u001b[39m value\n\u001b[1;32m-> 1248\u001b[0m \u001b[39mreturn\u001b[39;00m \u001b[39mself\u001b[39;49m\u001b[39m.\u001b[39;49mexecute(Command\u001b[39m.\u001b[39;49mFIND_ELEMENT, {\n\u001b[0;32m   1249\u001b[0m     \u001b[39m'\u001b[39;49m\u001b[39musing\u001b[39;49m\u001b[39m'\u001b[39;49m: by,\n\u001b[0;32m   1250\u001b[0m     \u001b[39m'\u001b[39;49m\u001b[39mvalue\u001b[39;49m\u001b[39m'\u001b[39;49m: value})[\u001b[39m'\u001b[39m\u001b[39mvalue\u001b[39m\u001b[39m'\u001b[39m]\n",
      "File \u001b[1;32mc:\\Users\\user\\AppData\\Local\\Programs\\Python\\Python310\\lib\\site-packages\\selenium\\webdriver\\remote\\webdriver.py:425\u001b[0m, in \u001b[0;36mWebDriver.execute\u001b[1;34m(self, driver_command, params)\u001b[0m\n\u001b[0;32m    423\u001b[0m response \u001b[39m=\u001b[39m \u001b[39mself\u001b[39m\u001b[39m.\u001b[39mcommand_executor\u001b[39m.\u001b[39mexecute(driver_command, params)\n\u001b[0;32m    424\u001b[0m \u001b[39mif\u001b[39;00m response:\n\u001b[1;32m--> 425\u001b[0m     \u001b[39mself\u001b[39;49m\u001b[39m.\u001b[39;49merror_handler\u001b[39m.\u001b[39;49mcheck_response(response)\n\u001b[0;32m    426\u001b[0m     response[\u001b[39m'\u001b[39m\u001b[39mvalue\u001b[39m\u001b[39m'\u001b[39m] \u001b[39m=\u001b[39m \u001b[39mself\u001b[39m\u001b[39m.\u001b[39m_unwrap_value(\n\u001b[0;32m    427\u001b[0m         response\u001b[39m.\u001b[39mget(\u001b[39m'\u001b[39m\u001b[39mvalue\u001b[39m\u001b[39m'\u001b[39m, \u001b[39mNone\u001b[39;00m))\n\u001b[0;32m    428\u001b[0m     \u001b[39mreturn\u001b[39;00m response\n",
      "File \u001b[1;32mc:\\Users\\user\\AppData\\Local\\Programs\\Python\\Python310\\lib\\site-packages\\selenium\\webdriver\\remote\\errorhandler.py:247\u001b[0m, in \u001b[0;36mErrorHandler.check_response\u001b[1;34m(self, response)\u001b[0m\n\u001b[0;32m    245\u001b[0m         alert_text \u001b[39m=\u001b[39m value[\u001b[39m'\u001b[39m\u001b[39malert\u001b[39m\u001b[39m'\u001b[39m]\u001b[39m.\u001b[39mget(\u001b[39m'\u001b[39m\u001b[39mtext\u001b[39m\u001b[39m'\u001b[39m)\n\u001b[0;32m    246\u001b[0m     \u001b[39mraise\u001b[39;00m exception_class(message, screen, stacktrace, alert_text)  \u001b[39m# type: ignore[call-arg]  # mypy is not smart enough here\u001b[39;00m\n\u001b[1;32m--> 247\u001b[0m \u001b[39mraise\u001b[39;00m exception_class(message, screen, stacktrace)\n",
      "\u001b[1;31mNoSuchElementException\u001b[0m: Message: no such element: Unable to locate element: {\"method\":\"css selector\",\"selector\":\"form.search-block mobile>input\"}\n  (Session info: chrome=107.0.5304.122)\nStacktrace:\nBacktrace:\n\tOrdinal0 [0x00DCACD3+2075859]\n\tOrdinal0 [0x00D5EE61+1633889]\n\tOrdinal0 [0x00C5B7BD+571325]\n\tOrdinal0 [0x00C8AC2F+764975]\n\tOrdinal0 [0x00C8AE1B+765467]\n\tOrdinal0 [0x00CBD0F2+970994]\n\tOrdinal0 [0x00CA7364+881508]\n\tOrdinal0 [0x00CBB56A+963946]\n\tOrdinal0 [0x00CA7136+880950]\n\tOrdinal0 [0x00C7FEFD+720637]\n\tOrdinal0 [0x00C80F3F+724799]\n\tGetHandleVerifier [0x0107EED2+2769538]\n\tGetHandleVerifier [0x01070D95+2711877]\n\tGetHandleVerifier [0x00E5A03A+521194]\n\tGetHandleVerifier [0x00E58DA0+516432]\n\tOrdinal0 [0x00D6682C+1665068]\n\tOrdinal0 [0x00D6B128+1683752]\n\tOrdinal0 [0x00D6B215+1683989]\n\tOrdinal0 [0x00D76484+1729668]\n\tBaseThreadInitThunk [0x769B6939+25]\n\tRtlGetFullPathName_UEx [0x76F58FD2+1218]\n\tRtlGetFullPathName_UEx [0x76F58F9D+1165]\n"
     ]
    }
   ],
   "source": [
    "from selenium import webdriver  #從library中引入webdriver\n",
    "from selenium.webdriver.common.by import By\n",
    "from selenium.webdriver import ActionChains\n",
    "from selenium.webdriver.common.keys import Keys\n",
    "import time\n",
    "\n",
    "# watsons = webdriver.Chrome()    #open chrome\n",
    "cosmed = webdriver.Chrome()\n",
    "# poya = webdriver.Chrome()\n",
    "time.sleep(1)\n",
    "# watsons.get(\"https://www.watsons.com.tw/\")\n",
    "cosmed.get(\"https://www.cosmed.com.tw/\")\n",
    "# poya.get(\"https://www.poyabuy.com.tw/?utm_source=PoyaWeb&utm_medium=Link&utm_campaign=lndexlink\")\n",
    "\n",
    "# 定位搜尋框\n",
    "# search_poya = poya.find_element(By.CSS_SELECTOR, 'input.ns-search-input')\n",
    "search_cosmed = cosmed.find_element(By.CSS_SELECTOR, 'form.search-block mobile>input')\n",
    "\n",
    "# 傳入字串\n",
    "# ActionChains(poya).move_to_element(search_poya).pause(3).double_click().pause(3)\\\n",
    "# .send_keys('化妝棉').send_keys(Keys.ENTER).send_keys(Keys.ENTER).perform()\n",
    "\n"
   ]
  },
  {
   "cell_type": "code",
   "execution_count": null,
   "metadata": {},
   "outputs": [],
   "source": []
  }
 ],
 "metadata": {
  "kernelspec": {
   "display_name": "Python 3.10.2 64-bit",
   "language": "python",
   "name": "python3"
  },
  "language_info": {
   "codemirror_mode": {
    "name": "ipython",
    "version": 3
   },
   "file_extension": ".py",
   "mimetype": "text/x-python",
   "name": "python",
   "nbconvert_exporter": "python",
   "pygments_lexer": "ipython3",
   "version": "3.10.2"
  },
  "orig_nbformat": 4,
  "vscode": {
   "interpreter": {
    "hash": "fb4569285eef3a3450cb62085a5b1e0da4bce0af555edc33dcf29baf3acc1368"
   }
  }
 },
 "nbformat": 4,
 "nbformat_minor": 2
}
