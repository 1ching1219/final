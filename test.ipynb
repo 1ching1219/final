{
 "cells": [
  {
   "cell_type": "code",
   "execution_count": null,
   "metadata": {},
   "outputs": [],
   "source": [
    "from selenium import webdriver\n",
    "from selenium.webdriver.common.keys import Keys\n",
    "from selenium.webdriver.common.by import By\n",
    "from selenium.webdriver.support.ui import WebDriverWait\n",
    "from selenium.webdriver.support import expected_conditions as EC\n",
    "from selenium.webdriver import ActionChains\n",
    "from selenium.webdriver.common.alert import Alert\n",
    "import time\n",
    "\n",
    "driver = webdriver.Chrome()\n",
    "driver.get(\"https://www.youtube.com/\")\n",
    "time.sleep(1)\n",
    "buttons = driver.find_elements(By.CSS_SELECTOR, \"yt-formatted-string.style-scope.yt-chip-cloud-chip-renderer\")\n",
    "\n",
    "for button in buttons:\n",
    "    if '音樂' in button.text:\n",
    "        music = button\n",
    "\n",
    "music.click()\n",
    "time.sleep(1)\n",
    "test = driver.execute_script('return 100')\n",
    "\n",
    "# scroll to bottom\n",
    "height = driver.execute_script('return document.documentElement.scrollHeight')\n",
    "\n",
    "while True:\n",
    "    driver.execute_script('window.scrollTo(0, document.documentElement.scrollHeight)')\n",
    "    time.sleep(2)\n",
    "    newheight = driver.execute_script('return document.documentElement.scrollHeight')\n",
    "    if newheight == height:\n",
    "        break\n",
    "    height = newheight\n",
    "\n",
    "titles = driver.find_elements(By.CSS_SELECTOR, 'yt-formatted-string#video-title')\n",
    "print(len(titles))"
   ]
  },
  {
   "cell_type": "code",
   "execution_count": 8,
   "metadata": {},
   "outputs": [
    {
     "name": "stderr",
     "output_type": "stream",
     "text": [
      "C:\\Users\\user\\AppData\\Local\\Temp\\ipykernel_11472\\2816475395.py:10: DeprecationWarning: executable_path has been deprecated, please pass in a Service object\n",
      "  watsons = webdriver.Firefox(executable_path=r'C:\\Users\\user\\OneDrive\\桌面\\git\\final\\geckodriver.exe')\n"
     ]
    }
   ],
   "source": [
    "from selenium import webdriver  #從library中引入webdriver\n",
    "from selenium.webdriver.common.by import By\n",
    "from selenium.webdriver import ActionChains\n",
    "from selenium.webdriver.common.keys import Keys\n",
    "from selenium.webdriver.support import expected_conditions as EC\n",
    "from selenium.webdriver.support.ui import WebDriverWait\n",
    "\n",
    "import time\n",
    "\n",
    "watsons = webdriver.Firefox(executable_path=r'C:\\Users\\user\\OneDrive\\桌面\\git\\final\\geckodriver.exe')\n",
    "# cosmed = webdriver.Chrome()\n",
    "# poya = webdriver.Chrome()\n",
    "time.sleep(1)\n",
    "watsons.get(\"https://shopee.tw/watsons_taiwan\")\n",
    "# cosmed.get(\"https://www.cosmed.com.tw/\")\n",
    "# poya.get(\"https://www.poyabuy.com.tw/?utm_source=PoyaWeb&utm_medium=Link&utm_campaign=lndexlink\")\n",
    "\n",
    "# 定位搜尋框\n",
    "search_watsons = watsons.find_element(By.CSS_SELECTOR,\"input.shopee-searchbar-input__input\")\n",
    "# search_poya = poya.find_element(By.CSS_SELECTOR, 'input.ns-search-input')\n",
    "# search_cosmed = cosmed.find_element_by_css_selector(\"input[type='text']\")\n",
    "\n",
    "# 傳入字串\n",
    "ActionChains(watsons).move_to_element(search_watsons).pause(1).double_click().pause(1)\\\n",
    ".send_keys('化妝棉').send_keys(Keys.ENTER).send_keys(Keys.ENTER).perform()\n",
    "\n",
    "#scroll\n",
    "time.sleep(1)\n",
    "height = watsons.execute_script('return document.documentElement.scrollHeight')\n",
    "i = 1\n",
    "while True:\n",
    "    # print(i)\n",
    "    if (i == 1):\n",
    "        watsons.execute_script('window.scrollTo(0, document.documentElement.scrollHeight/6)')\n",
    "        time.sleep(5)\n",
    "    if(i == 2): \n",
    "        watsons.execute_script('window.scrollTo(0, document.documentElement.scrollHeight/3)')\n",
    "        time.sleep(5)\n",
    "    if(i == 3): \n",
    "        watsons.execute_script('window.scrollTo(0, document.documentElement.scrollHeight/2)')\n",
    "        time.sleep(5)\n",
    "\n",
    "    i+=1\n",
    "\n",
    "    newheight = watsons.execute_script('return document.documentElement.scrollHeight')\n",
    "    if i==4:\n",
    "        watsons.execute_script('window.scrollTo(0, document.documentElement.scrollHeight)')\n",
    "        break\n",
    "    height = newheight\n",
    "    \n",
    "time.sleep(3)\n",
    "brands=[]\n",
    "products= watsons.find_elements(By.CSS_SELECTOR, 'div.shopee-search-item-result__item')\n",
    "for p in products:\n",
    "    brands.append(p.text)\n",
    "\n",
    "\n",
    "\n",
    "# ActionChains(poya).move_to_element(search_poya).pause(1).double_click().pause(1)\\\n",
    "# .send_keys('化妝棉').send_keys(Keys.ENTER).send_keys(Keys.ENTER).perform()\n",
    "\n",
    "# ActionChains(cosmed).move_to_element(search_cosmed).pause(1).double_click().pause(1)\\\n",
    "# .send_keys('化妝棉').send_keys(Keys.ENTER).perform()\n",
    "\n"
   ]
  },
  {
   "cell_type": "code",
   "execution_count": 9,
   "metadata": {},
   "outputs": [
    {
     "data": {
      "text/plain": [
       "['8.8\\n折\\n絲花 潤澤化妝棉 40片裝\\n$59\\n$52\\n已售出 9,486\\n臺北市內湖區',\n",
       " '8.8\\n折\\n蘭韻 化妝棉150片3盒 獨家設計\\n購了沒2件75折\\n$110\\n$97\\n已售出 1.3萬\\n臺北市內湖區',\n",
       " '8.8\\n折\\n絲花 化妝棉 80+2片X3盒\\n$149\\n$131\\n已售出 8,950\\n臺北市內湖區',\n",
       " '8.8\\n折\\n丸三五層可撕型敷面化妝棉80片\\n$89\\n$78\\n已售出 6,198\\n臺北市內湖區',\n",
       " '8.9\\n折\\n絲花 化妝棉80片\\n$54\\n$48\\n已售出 2,008\\n臺北市內湖區',\n",
       " '8.8\\n折\\n屈臣氏壓邊化妝棉100片3盒入\\n$75\\n$66\\n已售出 3,716\\n臺北市內湖區',\n",
       " '8.8\\n折\\n蘭韻紙纖化妝棉150片3盒屈臣氏專用\\n購了沒2件75折\\n$110\\n$97\\n已售出 2.1萬\\n臺北市內湖區',\n",
       " '8.7\\n折\\n蘭韻化妝棉180片\\n$72\\n$63\\n已售出 969\\n臺北市內湖區',\n",
       " '8.9\\n折\\n屈臣氏壓邊化妝棉100片\\n$45\\n$40\\n已售出 1,752\\n臺北市內湖區',\n",
       " '8.8\\n折\\n美娜多原色化妝棉180片\\n$99\\n$87\\n已售出 713\\n臺北市內湖區',\n",
       " '8.8\\n折\\n屈臣氏方形化妝棉150片+60片\\n$69\\n$61\\n已售出 363\\n臺北市內湖區',\n",
       " '8.8\\n折\\n絲花 絲柔化妝棉 32片裝\\n$59\\n$52\\n已售出 1,082\\n臺北市內湖區',\n",
       " '8.9\\n折\\nNARUKO舒柔按摩化妝棉 60片入/盒\\n$70\\n$62\\n已售出 585\\n臺北市內湖區',\n",
       " 'ETUDE HOUSE濾色奇蹟吃色怪獸化妝棉408片\\n滿額折$50\\n$180\\n已售出 259\\n臺北市內湖區',\n",
       " '8.8\\n折\\n美娜多原色化妝棉132片\\n$99\\n$87\\n已售出 299\\n臺北市內湖區',\n",
       " '8.8\\n折\\nBifesta 碧菲絲特 毛孔即淨卸妝棉46張入\\n滿額折$50\\n$189\\n$166\\n已售出 1.3萬\\n臺北市內湖區',\n",
       " '8.8\\n折\\nBiore深層卸粧棉攜帶包10入\\n購了沒2件75折\\n$50\\n$44\\n已售出 9,579\\n臺北市內湖區',\n",
       " '8.8\\n折\\nVIGILL婦潔 蘆薈淨柔除毛貼片 手/腳部用 16片/盒\\n滿額折$50\\n$250\\n$220\\n已售出 493\\n臺北市內湖區',\n",
       " '8.8\\n折\\n婦潔 VIGILL洋甘菊除毛貼片-粗毛根專用屈臣氏獨家16片/盒\\n滿額折$50\\n$249\\n$219\\n已售出 706\\n臺北市內湖區',\n",
       " '8.8\\n折\\n森田藥粧茶樹淨化深層卸粧棉55片\\n購了沒2件75折\\n$106\\n$93\\n已售出 1,908\\n臺北市內湖區',\n",
       " '8.8\\n折\\n婦潔法式服貼除毛貼片組私密區\\n滿額折$50\\n$269\\n$237\\n已售出 339\\n臺北市內湖區',\n",
       " '8.8\\n折\\nBiore頂級深層卸粧棉水嫩保濕型攜帶包10片入\\n購了沒2件75折\\n$75\\n$66\\n已售出 1,024\\n臺北市內湖區',\n",
       " '8.8\\n折\\n快潔適黑色紙軸棉花棒200支\\n$89\\n$78\\n已售出 94\\n臺北市內湖區',\n",
       " '7.7\\n折\\nBOM 碧波曼 純棉棉片\\n滿額折$50\\n$250\\n$193\\n臺北市內湖區',\n",
       " '8.8\\n折\\nKOSE 自由淨肌零毛孔卸妝棉極淨 50枚入\\n滿額折$50\\n$199\\n$175\\n已售出 50\\n臺北市內湖區',\n",
       " '8.8\\n折\\nKOSE 自由淨肌零毛孔卸妝棉水嫩 50枚入\\n滿額折$50\\n$199\\n$175\\n已售出 64\\n臺北市內湖區',\n",
       " '8.8\\n折\\nKOSE 自由淨肌零毛孔卸妝棉 輕透 50枚入\\n滿額折$50\\n$199\\n$175\\n已售出 65\\n臺北市內湖區',\n",
       " '8.8\\n折\\n森田藥粧保濕深層卸妝棉48片\\n購了沒2件75折\\n$100\\n$88\\n已售出 1,018\\n臺北市內湖區',\n",
       " '8.8\\n折\\nBiore頂級深層卸粧棉水嫩保濕型盒裝44片入\\n滿額折$50\\n購了沒2件75折\\n$210\\n$185\\n已售出 330\\n臺北市內湖區',\n",
       " '8.8\\n折\\n我的心機 無添加深層淨化卸妝棉55抽\\n購了沒2件75折\\n$113\\n$99\\n已售出 532\\n臺北市內湖區',\n",
       " '8.8\\n折\\nCollagen 喚白新生卸妝棉 30入\\n$150\\n$132\\n已售出 15\\n臺北市內湖區',\n",
       " '8.8\\n折\\n京城之霜濃縮酵母青春精華露超值重量組(閃閃水290ml 贈酵母面膜2片+化妝棉60片)\\n滿額折$100\\n$1,399\\n$1,231\\n已售出 11\\n臺北市內湖區']"
      ]
     },
     "execution_count": 9,
     "metadata": {},
     "output_type": "execute_result"
    }
   ],
   "source": [
    "brands"
   ]
  },
  {
   "cell_type": "code",
   "execution_count": null,
   "metadata": {},
   "outputs": [],
   "source": [
    "#scroll\n",
    "# height = watsons.execute_script('return document.documentElement.scrollHeight')\n",
    "# while True:\n",
    "#     watsons.execute_script('window.scrollTo(0, document.documentElement.scrollHeight)')\n",
    "#     newheight = watsons.execute_script('return document.documentElement.scrollHeight')\n",
    "#     if newheight == height:\n",
    "#         break\n",
    "#     height = newheight"
   ]
  },
  {
   "cell_type": "code",
   "execution_count": 67,
   "metadata": {},
   "outputs": [
    {
     "data": {
      "text/plain": [
       "[6, 4, 2]"
      ]
     },
     "execution_count": 67,
     "metadata": {},
     "output_type": "execute_result"
    }
   ],
   "source": [
    "\n",
    "[i for i in range(6, 0, -2)]"
   ]
  },
  {
   "cell_type": "code",
   "execution_count": 5,
   "metadata": {},
   "outputs": [],
   "source": [
    "height = watsons.execute_script('return document.documentElement.scrollHeight')\n",
    "i = 1\n",
    "while True:\n",
    "    # print(i)\n",
    "    if (i == 1):\n",
    "        watsons.execute_script('window.scrollTo(0, document.documentElement.scrollHeight/3)')\n",
    "        time.sleep(5)\n",
    "    if(i == 2): \n",
    "        watsons.execute_script('window.scrollTo(0, document.documentElement.scrollHeight)')\n",
    "        time.sleep(5)\n",
    "\n",
    "    i+=1\n",
    "\n",
    "    newheight = watsons.execute_script('return document.documentElement.scrollHeight')\n",
    "    if i==3:\n",
    "        break\n",
    "    height = newheight"
   ]
  },
  {
   "cell_type": "code",
   "execution_count": null,
   "metadata": {},
   "outputs": [],
   "source": []
  }
 ],
 "metadata": {
  "kernelspec": {
   "display_name": "Python 3.10.2 64-bit",
   "language": "python",
   "name": "python3"
  },
  "language_info": {
   "codemirror_mode": {
    "name": "ipython",
    "version": 3
   },
   "file_extension": ".py",
   "mimetype": "text/x-python",
   "name": "python",
   "nbconvert_exporter": "python",
   "pygments_lexer": "ipython3",
   "version": "3.10.2"
  },
  "orig_nbformat": 4,
  "vscode": {
   "interpreter": {
    "hash": "fb4569285eef3a3450cb62085a5b1e0da4bce0af555edc33dcf29baf3acc1368"
   }
  }
 },
 "nbformat": 4,
 "nbformat_minor": 2
}
